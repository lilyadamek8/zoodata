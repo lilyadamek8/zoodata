{
  "nbformat": 4,
  "nbformat_minor": 0,
  "metadata": {
    "colab": {
      "name": "Assignment.ipynb",
      "version": "0.3.2",
      "provenance": [],
      "collapsed_sections": [],
      "include_colab_link": true
    },
    "kernelspec": {
      "name": "python3",
      "display_name": "Python 3"
    }
  },
  "cells": [
    {
      "cell_type": "markdown",
      "metadata": {
        "id": "view-in-github",
        "colab_type": "text"
      },
      "source": [
        "[View in Colaboratory](https://colab.research.google.com/github/lilyadamek8/zoodata/blob/master/LilyAssignment.ipynb)"
      ]
    },
    {
      "metadata": {
        "id": "y4vNTFdfGAOn",
        "colab_type": "text"
      },
      "cell_type": "markdown",
      "source": [
        "## **Introduction**\n",
        "\n",
        "The dataset that I have chosen is focused on a Zoo and all of the animals inside of it. It contains the answers to a list of 18 questions for each animal of 101 animals inside the zoo, of which there is animal name, 15 Boolean attributes and also 2 numeric integer attributes (both have a range in which they can be answered).  The dataset therefore displays and records all necessary attributes about each animal in a zoo and allows the user to try and identify an animal based on its attributes. \n",
        "NB: For the purpose of this dataset, 0 represents false for the Boolean attributes and 1 represents true.\n",
        "\n",
        "The problem that I want to train a machine learning algorithm on is **“To determine what type an animal is of in the zoo based on its given attributes.”**\n",
        "\n",
        "I want to determine this to enable the user to easily classify an animal and if it is of a certain type (Type 5). To train the machine learning algorithm on this problem statement, I will first remove the ‘animal name’ and ‘animal type’ attribute and will solely be using the other 16 attributes for each animal in the zoo. \n",
        "\n",
        "---\n",
        "\n",
        "\n",
        "This problem is* supervised machine learning* as the problem statement asks the algorithm to predict a discrete value by identifying the data inputted as a member of a particular animal type. In the training dataset of animal types, each animal would be pre-labelled as a particular animal type, between 1 and 7, and the algorithm is subsequently evaluated on how accurately it can successfully classify new animals based on their attributes given. Additionally, this is a classification problem as the animals are restricted to the 7 provided animal types given in the dataset, and are already pre-defined and therefore there is no other option or animal type available for them to be defined as. \n",
        "\n",
        "\n",
        "Fundamentally, I am trying to solve this problem as it will save time for the Zoo staff as they won’t have to continuously spend unnecessary time trying to classify each animal in the zoo and any new animals that enter the zoo, but I am primarily doing this to prevent animals from being situated in the incorrect compound as this could lead to incompatible animals being placed together and not getting along. Therefore, once I am able to solve this problem, by predicting the type of each animal, I will hopefully be able to allow the zookeepers to spend more time with the animals and not in the office doing admin, subsequently providing the animals with more in depth care and interaction to allow them to be as happy as they can be and as well looked after as possible. \n"
      ]
    },
    {
      "metadata": {
        "id": "22P-Ft0jGTB-",
        "colab_type": "code",
        "colab": {}
      },
      "cell_type": "code",
      "source": [
        "import pandas as pd\n",
        "from sklearn import preprocessing\n",
        "import matplotlib.pyplot as plt\n",
        "\n",
        "from sklearn.linear_model import LogisticRegression\n",
        "from sklearn import linear_model\n",
        "from sklearn.tree import DecisionTreeClassifier\n",
        "from sklearn.metrics import accuracy_score\n"
      ],
      "execution_count": 0,
      "outputs": []
    },
    {
      "metadata": {
        "id": "IKUXMyka2nVt",
        "colab_type": "code",
        "colab": {
          "base_uri": "https://localhost:8080/",
          "height": 384
        },
        "outputId": "5d328958-a30d-42c2-f754-9d0fc70b795a"
      },
      "cell_type": "code",
      "source": [
        "csv_file_uri = \"https://raw.githubusercontent.com/lilyadamek8/zoodata/master/Zoo%20Raw%20Data.txt\" ## the location of the data from GitHub\n",
        "\n",
        "## defining the columns needed in the imported dataset \n",
        "column_names = [\n",
        "    \"Animal_Name\", \"Hair\", \"Feathers\", \"Eggs\", \"Milk\", \"Airborne\", \"Aquatic\",\n",
        "    \"Predator\", \"Toothed\", \"Backbone\", \"Breathes\", \"Venomous\", \"Fins\",\n",
        "    \"Legs\", \"Tail\", \"Domestic\", \"Catsize\", \"Animal_Type\"\n",
        "]  \n",
        "\n",
        "data = pd.read_csv(csv_file_uri, names=column_names, index_col=False)\n",
        "\n",
        "data.plot.bar(x='Animal_Type', y = 'Legs')\n",
        "plt.rcParams['figure.figsize'] = (10,6)\n"
      ],
      "execution_count": 18,
      "outputs": [
        {
          "output_type": "display_data",
          "data": {
            "image/png": "[encoded data removed]",
            "text/plain": [
              "<matplotlib.figure.Figure at 0x7fb8d2b24860>"
            ]
          },
          "metadata": {
            "tags": []
          }
        }
      ]
    },
    {
      "metadata": {
        "id": "IExCiF7uA_mR",
        "colab_type": "text"
      },
      "cell_type": "markdown",
      "source": [
        "I used the above code to create a basic bar graph surrounding the animal type against the number of legs an animal type has; I did this before the data was encoded/changed because it was more diverse and I also wanted to ensure that the data was correct and was running as expected. \n"
      ]
    },
    {
      "metadata": {
        "id": "4CG4PNIdAb-x",
        "colab_type": "code",
        "colab": {}
      },
      "cell_type": "code",
      "source": [
        "data.drop([\"Animal_Name\"], axis=1, inplace=True) # removing the column containing the animal names as it is not required\n"
      ],
      "execution_count": 0,
      "outputs": []
    },
    {
      "metadata": {
        "id": "YesgTt2L-ZR2",
        "colab_type": "text"
      },
      "cell_type": "markdown",
      "source": [
        "**Encoding Data**\n",
        "\n",
        "Before I could use a model, I had to encode my dataset by altering the data in the column ‘Animal_Type’.\n",
        "\n",
        "I encoded this data as it originally is a number between 1 and 7 for each animal, however I need to gather information on all of the animals which are of animal type 5, so therefore I altered the data so that if ‘Animal_Type’ = 5 then it was changed to a 1 and every other animal was labelled 0; this enables me to then calculate the accuracy of my machine learning algorithm. I didn’t encode any other column of data as they are all Boolean and do not require encoding as they are already in the necessary format. Before I use any model, I will need to process the raw data and also encode the data as previously discussed, so that it is ready to be used within the model."
      ]
    },
    {
      "metadata": {
        "id": "M7Hht_HFNaUB",
        "colab_type": "code",
        "colab": {
          "base_uri": "https://localhost:8080/",
          "height": 959
        },
        "outputId": "2f12a7b0-bcbe-4492-bdb7-fe752b93d90d"
      },
      "cell_type": "code",
      "source": [
        "def convert_animaltype_integer (num): # converting the animals in type 3 to a boolean value\n",
        "  if num == 3:\n",
        "    return 1\n",
        "  else:\n",
        "    return 0 \n",
        "\n",
        "  \n",
        "data[\"Animal_Type\"] = data.Animal_Type.apply(convert_animaltype_integer) ## changes the value in the column 'animal type' to a 1 for al type 3 animals\n",
        "\n",
        "\n",
        "data.head(30) ## prints out however many rows (animals) that you want to see\n",
        "# change this as appropriate\n"
      ],
      "execution_count": 20,
      "outputs": [
        {
          "output_type": "execute_result",
          "data": {
            "text/html": [
              "<div>\n",
              "<style scoped>\n",
              "    .dataframe tbody tr th:only-of-type {\n",
              "        vertical-align: middle;\n",
              "    }\n",
              "\n",
              "    .dataframe tbody tr th {\n",
              "        vertical-align: top;\n",
              "    }\n",
              "\n",
              "    .dataframe thead th {\n",
              "        text-align: right;\n",
              "    }\n",
              "</style>\n",
              "<table border=\"1\" class=\"dataframe\">\n",
              "  <thead>\n",
              "    <tr style=\"text-align: right;\">\n",
              "      <th></th>\n",
              "      <th>Hair</th>\n",
              "      <th>Feathers</th>\n",
              "      <th>Eggs</th>\n",
              "      <th>Milk</th>\n",
              "      <th>Airborne</th>\n",
              "      <th>Aquatic</th>\n",
              "      <th>Predator</th>\n",
              "      <th>Toothed</th>\n",
              "      <th>Backbone</th>\n",
              "      <th>Breathes</th>\n",
              "      <th>Venomous</th>\n",
              "      <th>Fins</th>\n",
              "      <th>Legs</th>\n",
              "      <th>Tail</th>\n",
              "      <th>Domestic</th>\n",
              "      <th>Catsize</th>\n",
              "      <th>Animal_Type</th>\n",
              "    </tr>\n",
              "  </thead>\n",
              "  <tbody>\n",
              "    <tr>\n",
              "      <th>0</th>\n",
              "      <td>1</td>\n",
              "      <td>0</td>\n",
              "      <td>0</td>\n",
              "      <td>1</td>\n",
              "      <td>0</td>\n",
              "      <td>0</td>\n",
              "      <td>1</td>\n",
              "      <td>1</td>\n",
              "      <td>1</td>\n",
              "      <td>1</td>\n",
              "      <td>0</td>\n",
              "      <td>0</td>\n",
              "      <td>4</td>\n",
              "      <td>0</td>\n",
              "      <td>0</td>\n",
              "      <td>1</td>\n",
              "      <td>0</td>\n",
              "    </tr>\n",
              "    <tr>\n",
              "      <th>1</th>\n",
              "      <td>1</td>\n",
              "      <td>0</td>\n",
              "      <td>0</td>\n",
              "      <td>1</td>\n",
              "      <td>0</td>\n",
              "      <td>0</td>\n",
              "      <td>0</td>\n",
              "      <td>1</td>\n",
              "      <td>1</td>\n",
              "      <td>1</td>\n",
              "      <td>0</td>\n",
              "      <td>0</td>\n",
              "      <td>4</td>\n",
              "      <td>1</td>\n",
              "      <td>0</td>\n",
              "      <td>1</td>\n",
              "      <td>0</td>\n",
              "    </tr>\n",
              "    <tr>\n",
              "      <th>2</th>\n",
              "      <td>0</td>\n",
              "      <td>0</td>\n",
              "      <td>1</td>\n",
              "      <td>0</td>\n",
              "      <td>0</td>\n",
              "      <td>1</td>\n",
              "      <td>1</td>\n",
              "      <td>1</td>\n",
              "      <td>1</td>\n",
              "      <td>0</td>\n",
              "      <td>0</td>\n",
              "      <td>1</td>\n",
              "      <td>0</td>\n",
              "      <td>1</td>\n",
              "      <td>0</td>\n",
              "      <td>0</td>\n",
              "      <td>0</td>\n",
              "    </tr>\n",
              "    <tr>\n",
              "      <th>3</th>\n",
              "      <td>1</td>\n",
              "      <td>0</td>\n",
              "      <td>0</td>\n",
              "      <td>1</td>\n",
              "      <td>0</td>\n",
              "      <td>0</td>\n",
              "      <td>1</td>\n",
              "      <td>1</td>\n",
              "      <td>1</td>\n",
              "      <td>1</td>\n",
              "      <td>0</td>\n",
              "      <td>0</td>\n",
              "      <td>4</td>\n",
              "      <td>0</td>\n",
              "      <td>0</td>\n",
              "      <td>1</td>\n",
              "      <td>0</td>\n",
              "    </tr>\n",
              "    <tr>\n",
              "      <th>4</th>\n",
              "      <td>1</td>\n",
              "      <td>0</td>\n",
              "      <td>0</td>\n",
              "      <td>1</td>\n",
              "      <td>0</td>\n",
              "      <td>0</td>\n",
              "      <td>1</td>\n",
              "      <td>1</td>\n",
              "      <td>1</td>\n",
              "      <td>1</td>\n",
              "      <td>0</td>\n",
              "      <td>0</td>\n",
              "      <td>4</td>\n",
              "      <td>1</td>\n",
              "      <td>0</td>\n",
              "      <td>1</td>\n",
              "      <td>0</td>\n",
              "    </tr>\n",
              "    <tr>\n",
              "      <th>5</th>\n",
              "      <td>1</td>\n",
              "      <td>0</td>\n",
              "      <td>0</td>\n",
              "      <td>1</td>\n",
              "      <td>0</td>\n",
              "      <td>0</td>\n",
              "      <td>0</td>\n",
              "      <td>1</td>\n",
              "      <td>1</td>\n",
              "      <td>1</td>\n",
              "      <td>0</td>\n",
              "      <td>0</td>\n",
              "      <td>4</td>\n",
              "      <td>1</td>\n",
              "      <td>0</td>\n",
              "      <td>1</td>\n",
              "      <td>0</td>\n",
              "    </tr>\n",
              "    <tr>\n",
              "      <th>6</th>\n",
              "      <td>1</td>\n",
              "      <td>0</td>\n",
              "      <td>0</td>\n",
              "      <td>1</td>\n",
              "      <td>0</td>\n",
              "      <td>0</td>\n",
              "      <td>0</td>\n",
              "      <td>1</td>\n",
              "      <td>1</td>\n",
              "      <td>1</td>\n",
              "      <td>0</td>\n",
              "      <td>0</td>\n",
              "      <td>4</td>\n",
              "      <td>1</td>\n",
              "      <td>1</td>\n",
              "      <td>1</td>\n",
              "      <td>0</td>\n",
              "    </tr>\n",
              "    <tr>\n",
              "      <th>7</th>\n",
              "      <td>0</td>\n",
              "      <td>0</td>\n",
              "      <td>1</td>\n",
              "      <td>0</td>\n",
              "      <td>0</td>\n",
              "      <td>1</td>\n",
              "      <td>0</td>\n",
              "      <td>1</td>\n",
              "      <td>1</td>\n",
              "      <td>0</td>\n",
              "      <td>0</td>\n",
              "      <td>1</td>\n",
              "      <td>0</td>\n",
              "      <td>1</td>\n",
              "      <td>1</td>\n",
              "      <td>0</td>\n",
              "      <td>0</td>\n",
              "    </tr>\n",
              "    <tr>\n",
              "      <th>8</th>\n",
              "      <td>0</td>\n",
              "      <td>0</td>\n",
              "      <td>1</td>\n",
              "      <td>0</td>\n",
              "      <td>0</td>\n",
              "      <td>1</td>\n",
              "      <td>1</td>\n",
              "      <td>1</td>\n",
              "      <td>1</td>\n",
              "      <td>0</td>\n",
              "      <td>0</td>\n",
              "      <td>1</td>\n",
              "      <td>0</td>\n",
              "      <td>1</td>\n",
              "      <td>0</td>\n",
              "      <td>0</td>\n",
              "      <td>0</td>\n",
              "    </tr>\n",
              "    <tr>\n",
              "      <th>9</th>\n",
              "      <td>1</td>\n",
              "      <td>0</td>\n",
              "      <td>0</td>\n",
              "      <td>1</td>\n",
              "      <td>0</td>\n",
              "      <td>0</td>\n",
              "      <td>0</td>\n",
              "      <td>1</td>\n",
              "      <td>1</td>\n",
              "      <td>1</td>\n",
              "      <td>0</td>\n",
              "      <td>0</td>\n",
              "      <td>4</td>\n",
              "      <td>0</td>\n",
              "      <td>1</td>\n",
              "      <td>0</td>\n",
              "      <td>0</td>\n",
              "    </tr>\n",
              "    <tr>\n",
              "      <th>10</th>\n",
              "      <td>1</td>\n",
              "      <td>0</td>\n",
              "      <td>0</td>\n",
              "      <td>1</td>\n",
              "      <td>0</td>\n",
              "      <td>0</td>\n",
              "      <td>1</td>\n",
              "      <td>1</td>\n",
              "      <td>1</td>\n",
              "      <td>1</td>\n",
              "      <td>0</td>\n",
              "      <td>0</td>\n",
              "      <td>4</td>\n",
              "      <td>1</td>\n",
              "      <td>0</td>\n",
              "      <td>1</td>\n",
              "      <td>0</td>\n",
              "    </tr>\n",
              "    <tr>\n",
              "      <th>11</th>\n",
              "      <td>0</td>\n",
              "      <td>1</td>\n",
              "      <td>1</td>\n",
              "      <td>0</td>\n",
              "      <td>1</td>\n",
              "      <td>0</td>\n",
              "      <td>0</td>\n",
              "      <td>0</td>\n",
              "      <td>1</td>\n",
              "      <td>1</td>\n",
              "      <td>0</td>\n",
              "      <td>0</td>\n",
              "      <td>2</td>\n",
              "      <td>1</td>\n",
              "      <td>1</td>\n",
              "      <td>0</td>\n",
              "      <td>0</td>\n",
              "    </tr>\n",
              "    <tr>\n",
              "      <th>12</th>\n",
              "      <td>0</td>\n",
              "      <td>0</td>\n",
              "      <td>1</td>\n",
              "      <td>0</td>\n",
              "      <td>0</td>\n",
              "      <td>1</td>\n",
              "      <td>1</td>\n",
              "      <td>1</td>\n",
              "      <td>1</td>\n",
              "      <td>0</td>\n",
              "      <td>0</td>\n",
              "      <td>1</td>\n",
              "      <td>0</td>\n",
              "      <td>1</td>\n",
              "      <td>0</td>\n",
              "      <td>0</td>\n",
              "      <td>0</td>\n",
              "    </tr>\n",
              "    <tr>\n",
              "      <th>13</th>\n",
              "      <td>0</td>\n",
              "      <td>0</td>\n",
              "      <td>1</td>\n",
              "      <td>0</td>\n",
              "      <td>0</td>\n",
              "      <td>0</td>\n",
              "      <td>1</td>\n",
              "      <td>0</td>\n",
              "      <td>0</td>\n",
              "      <td>0</td>\n",
              "      <td>0</td>\n",
              "      <td>0</td>\n",
              "      <td>0</td>\n",
              "      <td>0</td>\n",
              "      <td>0</td>\n",
              "      <td>0</td>\n",
              "      <td>0</td>\n",
              "    </tr>\n",
              "    <tr>\n",
              "      <th>14</th>\n",
              "      <td>0</td>\n",
              "      <td>0</td>\n",
              "      <td>1</td>\n",
              "      <td>0</td>\n",
              "      <td>0</td>\n",
              "      <td>1</td>\n",
              "      <td>1</td>\n",
              "      <td>0</td>\n",
              "      <td>0</td>\n",
              "      <td>0</td>\n",
              "      <td>0</td>\n",
              "      <td>0</td>\n",
              "      <td>4</td>\n",
              "      <td>0</td>\n",
              "      <td>0</td>\n",
              "      <td>0</td>\n",
              "      <td>0</td>\n",
              "    </tr>\n",
              "    <tr>\n",
              "      <th>15</th>\n",
              "      <td>0</td>\n",
              "      <td>0</td>\n",
              "      <td>1</td>\n",
              "      <td>0</td>\n",
              "      <td>0</td>\n",
              "      <td>1</td>\n",
              "      <td>1</td>\n",
              "      <td>0</td>\n",
              "      <td>0</td>\n",
              "      <td>0</td>\n",
              "      <td>0</td>\n",
              "      <td>0</td>\n",
              "      <td>6</td>\n",
              "      <td>0</td>\n",
              "      <td>0</td>\n",
              "      <td>0</td>\n",
              "      <td>0</td>\n",
              "    </tr>\n",
              "    <tr>\n",
              "      <th>16</th>\n",
              "      <td>0</td>\n",
              "      <td>1</td>\n",
              "      <td>1</td>\n",
              "      <td>0</td>\n",
              "      <td>1</td>\n",
              "      <td>0</td>\n",
              "      <td>1</td>\n",
              "      <td>0</td>\n",
              "      <td>1</td>\n",
              "      <td>1</td>\n",
              "      <td>0</td>\n",
              "      <td>0</td>\n",
              "      <td>2</td>\n",
              "      <td>1</td>\n",
              "      <td>0</td>\n",
              "      <td>0</td>\n",
              "      <td>0</td>\n",
              "    </tr>\n",
              "    <tr>\n",
              "      <th>17</th>\n",
              "      <td>1</td>\n",
              "      <td>0</td>\n",
              "      <td>0</td>\n",
              "      <td>1</td>\n",
              "      <td>0</td>\n",
              "      <td>0</td>\n",
              "      <td>0</td>\n",
              "      <td>1</td>\n",
              "      <td>1</td>\n",
              "      <td>1</td>\n",
              "      <td>0</td>\n",
              "      <td>0</td>\n",
              "      <td>4</td>\n",
              "      <td>1</td>\n",
              "      <td>0</td>\n",
              "      <td>1</td>\n",
              "      <td>0</td>\n",
              "    </tr>\n",
              "    <tr>\n",
              "      <th>18</th>\n",
              "      <td>0</td>\n",
              "      <td>0</td>\n",
              "      <td>1</td>\n",
              "      <td>0</td>\n",
              "      <td>0</td>\n",
              "      <td>1</td>\n",
              "      <td>1</td>\n",
              "      <td>1</td>\n",
              "      <td>1</td>\n",
              "      <td>0</td>\n",
              "      <td>0</td>\n",
              "      <td>1</td>\n",
              "      <td>0</td>\n",
              "      <td>1</td>\n",
              "      <td>0</td>\n",
              "      <td>1</td>\n",
              "      <td>0</td>\n",
              "    </tr>\n",
              "    <tr>\n",
              "      <th>19</th>\n",
              "      <td>0</td>\n",
              "      <td>0</td>\n",
              "      <td>0</td>\n",
              "      <td>1</td>\n",
              "      <td>0</td>\n",
              "      <td>1</td>\n",
              "      <td>1</td>\n",
              "      <td>1</td>\n",
              "      <td>1</td>\n",
              "      <td>1</td>\n",
              "      <td>0</td>\n",
              "      <td>1</td>\n",
              "      <td>0</td>\n",
              "      <td>1</td>\n",
              "      <td>0</td>\n",
              "      <td>1</td>\n",
              "      <td>0</td>\n",
              "    </tr>\n",
              "    <tr>\n",
              "      <th>20</th>\n",
              "      <td>0</td>\n",
              "      <td>1</td>\n",
              "      <td>1</td>\n",
              "      <td>0</td>\n",
              "      <td>1</td>\n",
              "      <td>0</td>\n",
              "      <td>0</td>\n",
              "      <td>0</td>\n",
              "      <td>1</td>\n",
              "      <td>1</td>\n",
              "      <td>0</td>\n",
              "      <td>0</td>\n",
              "      <td>2</td>\n",
              "      <td>1</td>\n",
              "      <td>1</td>\n",
              "      <td>0</td>\n",
              "      <td>0</td>\n",
              "    </tr>\n",
              "    <tr>\n",
              "      <th>21</th>\n",
              "      <td>0</td>\n",
              "      <td>1</td>\n",
              "      <td>1</td>\n",
              "      <td>0</td>\n",
              "      <td>1</td>\n",
              "      <td>1</td>\n",
              "      <td>0</td>\n",
              "      <td>0</td>\n",
              "      <td>1</td>\n",
              "      <td>1</td>\n",
              "      <td>0</td>\n",
              "      <td>0</td>\n",
              "      <td>2</td>\n",
              "      <td>1</td>\n",
              "      <td>0</td>\n",
              "      <td>0</td>\n",
              "      <td>0</td>\n",
              "    </tr>\n",
              "    <tr>\n",
              "      <th>22</th>\n",
              "      <td>1</td>\n",
              "      <td>0</td>\n",
              "      <td>0</td>\n",
              "      <td>1</td>\n",
              "      <td>0</td>\n",
              "      <td>0</td>\n",
              "      <td>0</td>\n",
              "      <td>1</td>\n",
              "      <td>1</td>\n",
              "      <td>1</td>\n",
              "      <td>0</td>\n",
              "      <td>0</td>\n",
              "      <td>4</td>\n",
              "      <td>1</td>\n",
              "      <td>0</td>\n",
              "      <td>1</td>\n",
              "      <td>0</td>\n",
              "    </tr>\n",
              "    <tr>\n",
              "      <th>23</th>\n",
              "      <td>0</td>\n",
              "      <td>1</td>\n",
              "      <td>1</td>\n",
              "      <td>0</td>\n",
              "      <td>1</td>\n",
              "      <td>0</td>\n",
              "      <td>0</td>\n",
              "      <td>0</td>\n",
              "      <td>1</td>\n",
              "      <td>1</td>\n",
              "      <td>0</td>\n",
              "      <td>0</td>\n",
              "      <td>2</td>\n",
              "      <td>1</td>\n",
              "      <td>0</td>\n",
              "      <td>1</td>\n",
              "      <td>0</td>\n",
              "    </tr>\n",
              "    <tr>\n",
              "      <th>24</th>\n",
              "      <td>0</td>\n",
              "      <td>0</td>\n",
              "      <td>1</td>\n",
              "      <td>0</td>\n",
              "      <td>0</td>\n",
              "      <td>0</td>\n",
              "      <td>0</td>\n",
              "      <td>0</td>\n",
              "      <td>0</td>\n",
              "      <td>1</td>\n",
              "      <td>0</td>\n",
              "      <td>0</td>\n",
              "      <td>6</td>\n",
              "      <td>0</td>\n",
              "      <td>0</td>\n",
              "      <td>0</td>\n",
              "      <td>0</td>\n",
              "    </tr>\n",
              "    <tr>\n",
              "      <th>25</th>\n",
              "      <td>0</td>\n",
              "      <td>0</td>\n",
              "      <td>1</td>\n",
              "      <td>0</td>\n",
              "      <td>0</td>\n",
              "      <td>1</td>\n",
              "      <td>1</td>\n",
              "      <td>1</td>\n",
              "      <td>1</td>\n",
              "      <td>1</td>\n",
              "      <td>0</td>\n",
              "      <td>0</td>\n",
              "      <td>4</td>\n",
              "      <td>0</td>\n",
              "      <td>0</td>\n",
              "      <td>0</td>\n",
              "      <td>0</td>\n",
              "    </tr>\n",
              "    <tr>\n",
              "      <th>26</th>\n",
              "      <td>0</td>\n",
              "      <td>0</td>\n",
              "      <td>1</td>\n",
              "      <td>0</td>\n",
              "      <td>0</td>\n",
              "      <td>1</td>\n",
              "      <td>1</td>\n",
              "      <td>1</td>\n",
              "      <td>1</td>\n",
              "      <td>1</td>\n",
              "      <td>1</td>\n",
              "      <td>0</td>\n",
              "      <td>4</td>\n",
              "      <td>0</td>\n",
              "      <td>0</td>\n",
              "      <td>0</td>\n",
              "      <td>0</td>\n",
              "    </tr>\n",
              "    <tr>\n",
              "      <th>27</th>\n",
              "      <td>1</td>\n",
              "      <td>0</td>\n",
              "      <td>0</td>\n",
              "      <td>1</td>\n",
              "      <td>1</td>\n",
              "      <td>0</td>\n",
              "      <td>0</td>\n",
              "      <td>1</td>\n",
              "      <td>1</td>\n",
              "      <td>1</td>\n",
              "      <td>0</td>\n",
              "      <td>0</td>\n",
              "      <td>2</td>\n",
              "      <td>1</td>\n",
              "      <td>0</td>\n",
              "      <td>0</td>\n",
              "      <td>0</td>\n",
              "    </tr>\n",
              "    <tr>\n",
              "      <th>28</th>\n",
              "      <td>1</td>\n",
              "      <td>0</td>\n",
              "      <td>0</td>\n",
              "      <td>1</td>\n",
              "      <td>0</td>\n",
              "      <td>0</td>\n",
              "      <td>0</td>\n",
              "      <td>1</td>\n",
              "      <td>1</td>\n",
              "      <td>1</td>\n",
              "      <td>0</td>\n",
              "      <td>0</td>\n",
              "      <td>4</td>\n",
              "      <td>1</td>\n",
              "      <td>0</td>\n",
              "      <td>1</td>\n",
              "      <td>0</td>\n",
              "    </tr>\n",
              "    <tr>\n",
              "      <th>29</th>\n",
              "      <td>1</td>\n",
              "      <td>0</td>\n",
              "      <td>0</td>\n",
              "      <td>1</td>\n",
              "      <td>0</td>\n",
              "      <td>0</td>\n",
              "      <td>1</td>\n",
              "      <td>1</td>\n",
              "      <td>1</td>\n",
              "      <td>1</td>\n",
              "      <td>0</td>\n",
              "      <td>0</td>\n",
              "      <td>2</td>\n",
              "      <td>0</td>\n",
              "      <td>1</td>\n",
              "      <td>1</td>\n",
              "      <td>0</td>\n",
              "    </tr>\n",
              "  </tbody>\n",
              "</table>\n",
              "</div>"
            ],
            "text/plain": [
              "    Hair  Feathers  Eggs  Milk  Airborne  Aquatic  Predator  Toothed  \\\n",
              "0      1         0     0     1         0        0         1        1   \n",
              "1      1         0     0     1         0        0         0        1   \n",
              "2      0         0     1     0         0        1         1        1   \n",
              "3      1         0     0     1         0        0         1        1   \n",
              "4      1         0     0     1         0        0         1        1   \n",
              "5      1         0     0     1         0        0         0        1   \n",
              "6      1         0     0     1         0        0         0        1   \n",
              "7      0         0     1     0         0        1         0        1   \n",
              "8      0         0     1     0         0        1         1        1   \n",
              "9      1         0     0     1         0        0         0        1   \n",
              "10     1         0     0     1         0        0         1        1   \n",
              "11     0         1     1     0         1        0         0        0   \n",
              "12     0         0     1     0         0        1         1        1   \n",
              "13     0         0     1     0         0        0         1        0   \n",
              "14     0         0     1     0         0        1         1        0   \n",
              "15     0         0     1     0         0        1         1        0   \n",
              "16     0         1     1     0         1        0         1        0   \n",
              "17     1         0     0     1         0        0         0        1   \n",
              "18     0         0     1     0         0        1         1        1   \n",
              "19     0         0     0     1         0        1         1        1   \n",
              "20     0         1     1     0         1        0         0        0   \n",
              "21     0         1     1     0         1        1         0        0   \n",
              "22     1         0     0     1         0        0         0        1   \n",
              "23     0         1     1     0         1        0         0        0   \n",
              "24     0         0     1     0         0        0         0        0   \n",
              "25     0         0     1     0         0        1         1        1   \n",
              "26     0         0     1     0         0        1         1        1   \n",
              "27     1         0     0     1         1        0         0        1   \n",
              "28     1         0     0     1         0        0         0        1   \n",
              "29     1         0     0     1         0        0         1        1   \n",
              "\n",
              "    Backbone  Breathes  Venomous  Fins  Legs  Tail  Domestic  Catsize  \\\n",
              "0          1         1         0     0     4     0         0        1   \n",
              "1          1         1         0     0     4     1         0        1   \n",
              "2          1         0         0     1     0     1         0        0   \n",
              "3          1         1         0     0     4     0         0        1   \n",
              "4          1         1         0     0     4     1         0        1   \n",
              "5          1         1         0     0     4     1         0        1   \n",
              "6          1         1         0     0     4     1         1        1   \n",
              "7          1         0         0     1     0     1         1        0   \n",
              "8          1         0         0     1     0     1         0        0   \n",
              "9          1         1         0     0     4     0         1        0   \n",
              "10         1         1         0     0     4     1         0        1   \n",
              "11         1         1         0     0     2     1         1        0   \n",
              "12         1         0         0     1     0     1         0        0   \n",
              "13         0         0         0     0     0     0         0        0   \n",
              "14         0         0         0     0     4     0         0        0   \n",
              "15         0         0         0     0     6     0         0        0   \n",
              "16         1         1         0     0     2     1         0        0   \n",
              "17         1         1         0     0     4     1         0        1   \n",
              "18         1         0         0     1     0     1         0        1   \n",
              "19         1         1         0     1     0     1         0        1   \n",
              "20         1         1         0     0     2     1         1        0   \n",
              "21         1         1         0     0     2     1         0        0   \n",
              "22         1         1         0     0     4     1         0        1   \n",
              "23         1         1         0     0     2     1         0        1   \n",
              "24         0         1         0     0     6     0         0        0   \n",
              "25         1         1         0     0     4     0         0        0   \n",
              "26         1         1         1     0     4     0         0        0   \n",
              "27         1         1         0     0     2     1         0        0   \n",
              "28         1         1         0     0     4     1         0        1   \n",
              "29         1         1         0     0     2     0         1        1   \n",
              "\n",
              "    Animal_Type  \n",
              "0             0  \n",
              "1             0  \n",
              "2             0  \n",
              "3             0  \n",
              "4             0  \n",
              "5             0  \n",
              "6             0  \n",
              "7             0  \n",
              "8             0  \n",
              "9             0  \n",
              "10            0  \n",
              "11            0  \n",
              "12            0  \n",
              "13            0  \n",
              "14            0  \n",
              "15            0  \n",
              "16            0  \n",
              "17            0  \n",
              "18            0  \n",
              "19            0  \n",
              "20            0  \n",
              "21            0  \n",
              "22            0  \n",
              "23            0  \n",
              "24            0  \n",
              "25            0  \n",
              "26            0  \n",
              "27            0  \n",
              "28            0  \n",
              "29            0  "
            ]
          },
          "metadata": {
            "tags": []
          },
          "execution_count": 20
        }
      ]
    },
    {
      "metadata": {
        "id": "9969WVXOmzeI",
        "colab_type": "code",
        "colab": {
          "base_uri": "https://localhost:8080/",
          "height": 35
        },
        "outputId": "61d3e1b4-e7e2-4d4a-9790-22a88fbbae16"
      },
      "cell_type": "code",
      "source": [
        "# displaying the size of the dataset\n",
        "data.shape"
      ],
      "execution_count": 21,
      "outputs": [
        {
          "output_type": "execute_result",
          "data": {
            "text/plain": [
              "(101, 17)"
            ]
          },
          "metadata": {
            "tags": []
          },
          "execution_count": 21
        }
      ]
    },
    {
      "metadata": {
        "id": "KBWhaVH-4ep5",
        "colab_type": "code",
        "colab": {
          "base_uri": "https://localhost:8080/",
          "height": 52
        },
        "outputId": "7454fa37-14db-4693-9829-ad86ed0551fd"
      },
      "cell_type": "code",
      "source": [
        "feature_columns = data.columns.tolist()\n",
        "feature_columns.remove(\"Animal_Type\")\n",
        "\n",
        "X = data[feature_columns].values # gets the values/data from all of the columns\n",
        "y = data[\"Animal_Type\"].values # gets the animal type values (either 1 or 0)\n",
        "\n",
        "print(X.shape)\n",
        "print(y.shape)"
      ],
      "execution_count": 22,
      "outputs": [
        {
          "output_type": "stream",
          "text": [
            "(101, 16)\n",
            "(101,)\n"
          ],
          "name": "stdout"
        }
      ]
    },
    {
      "metadata": {
        "id": "pZtK6UKqE8Fv",
        "colab_type": "code",
        "colab": {}
      },
      "cell_type": "code",
      "source": [
        "import numpy as np\n",
        "import matplotlib.pyplot as plt\n",
        "\n",
        "from sklearn.linear_model import LogisticRegression\n",
        "from sklearn.tree import DecisionTreeClassifier \n",
        "from sklearn import datasets\n",
        "from sklearn.preprocessing import StandardScaler\n",
        "\n",
        "digits = datasets.load_digits()\n",
        "\n",
        "X, y = digits.data, digits.target\n",
        "X = StandardScaler().fit_transform(X)\n",
        "\n",
        "# classify small against large digits\n",
        "y = (y > 4).astype(np.int)\n",
        "\n",
        "\n",
        "# Set regularization parameter\n",
        "for i, C in enumerate((100, 2, 14)):\n",
        "  \n",
        "    # turn down tolerance for short training time\n",
        "    clf_l1_LR = LogisticRegression(C=C, penalty='l1', tol=500)\n",
        "    clf_l1_LR.fit(X, y)\n",
        " \n",
        "\n",
        "    coef_l1_LR = clf_l1_LR.coef_.ravel()"
      ],
      "execution_count": 0,
      "outputs": []
    },
    {
      "metadata": {
        "id": "ufNsfWDyFoqh",
        "colab_type": "text"
      },
      "cell_type": "markdown",
      "source": [
        "N.B. I took this code and manipulated from the following website:\n",
        "\n",
        "http://scikit-learn.org/stable/auto_examples/linear_model/plot_logistic_l1_l2_sparsity.html#sphx-glr-auto-examples-linear-model-plot-logistic-l1-l2-sparsity-py"
      ]
    },
    {
      "metadata": {
        "id": "wHmWQ66_e3Wl",
        "colab_type": "code",
        "colab": {
          "base_uri": "https://localhost:8080/",
          "height": 35
        },
        "outputId": "8e1a8e52-0605-4d74-c2c6-5e7883358388"
      },
      "cell_type": "code",
      "source": [
        "# #applying cross-validation to the dataset\n",
        "from sklearn import model_selection\n",
        "\n",
        "seed = 3\n",
        "\n",
        "X_train, X_test, y_train, y_test = model_selection.train_test_split(X, y, test_size=0.008, random_state=seed) ## alter the test size for a change in prediction accuracy\n",
        "\n",
        "# training the model using the training sets\n",
        "clf = linear_model.LogisticRegression()\n",
        "clf.fit(X_train, y_train)\n",
        "\n",
        "# using the training data to predict the result\n",
        "accuracy_train = clf.score(X_train, y_train)\n",
        "print(\"- The model's training accuracy is {}\".format(accuracy_train*100))\n"
      ],
      "execution_count": 24,
      "outputs": [
        {
          "output_type": "stream",
          "text": [
            "- The model's training accuracy is 91.07744107744108\n"
          ],
          "name": "stdout"
        }
      ]
    },
    {
      "metadata": {
        "id": "rNGFymdmxo-F",
        "colab_type": "text"
      },
      "cell_type": "markdown",
      "source": [
        "Having experimented with altering the 'test size' used, I found that the larger the test size that was used, the more accurate the models training would be. For example, when I use test size of 0.2 the model's training accuracy is only 95, however when I increase the test size used to 0.5, the training of the model becomes 98% accurate from the training."
      ]
    },
    {
      "metadata": {
        "id": "0aRF1e9eJ7bD",
        "colab_type": "text"
      },
      "cell_type": "markdown",
      "source": [
        "**Linear Regression Model**"
      ]
    },
    {
      "metadata": {
        "id": "B0v6IDoEyIL5",
        "colab_type": "code",
        "colab": {
          "base_uri": "https://localhost:8080/",
          "height": 355
        },
        "outputId": "7b844025-f0f5-4bb5-bc76-7dd5f4930204"
      },
      "cell_type": "code",
      "source": [
        "from sklearn import linear_model\n",
        "\n",
        "# Makes predictions using the testing set\n",
        "pred = clf.predict(X[-1,:].reshape(1,64))\n",
        "\n",
        "print(data.iloc[data.index[0]])\n",
        "if pred == 0:\n",
        "  print(\"\\nPredicts its not a Type 3 animal\") ## to easily display to the user what the system predicts, rather than it just showing a 1 or a 0 value \n",
        "else :\n",
        "  print(\"Predicts it is a Type 3 animal\")"
      ],
      "execution_count": 25,
      "outputs": [
        {
          "output_type": "stream",
          "text": [
            "Hair           1\n",
            "Feathers       0\n",
            "Eggs           0\n",
            "Milk           1\n",
            "Airborne       0\n",
            "Aquatic        0\n",
            "Predator       1\n",
            "Toothed        1\n",
            "Backbone       1\n",
            "Breathes       1\n",
            "Venomous       0\n",
            "Fins           0\n",
            "Legs           4\n",
            "Tail           0\n",
            "Domestic       0\n",
            "Catsize        1\n",
            "Animal_Type    0\n",
            "Name: 0, dtype: int64\n",
            "Predicts it is a Type 3 animal\n"
          ],
          "name": "stdout"
        }
      ]
    },
    {
      "metadata": {
        "id": "mqXB-Zmh9RdE",
        "colab_type": "code",
        "colab": {
          "base_uri": "https://localhost:8080/",
          "height": 355
        },
        "outputId": "af1b689d-26c1-416d-89f1-faa5918f4399"
      },
      "cell_type": "code",
      "source": [
        "# Creating the decision tree model\n",
        "from sklearn.tree import DecisionTreeClassifier\n",
        "from sklearn import tree\n",
        "\n",
        "clf = tree.DecisionTreeClassifier(max_depth=8)\n",
        "\n",
        "clf.fit(X, y)\n",
        "\n",
        "pred2 = clf.predict(X[-1,:].reshape(1,64))\n",
        "print(data.iloc[data.index[0]])\n",
        "if pred == 0:\n",
        "  print(\"\\nPredict its not a Type 3 animal\")\n",
        "else :\n",
        "  print(\"Predict it is a Type 3 animal\")\n",
        " "
      ],
      "execution_count": 26,
      "outputs": [
        {
          "output_type": "stream",
          "text": [
            "Hair           1\n",
            "Feathers       0\n",
            "Eggs           0\n",
            "Milk           1\n",
            "Airborne       0\n",
            "Aquatic        0\n",
            "Predator       1\n",
            "Toothed        1\n",
            "Backbone       1\n",
            "Breathes       1\n",
            "Venomous       0\n",
            "Fins           0\n",
            "Legs           4\n",
            "Tail           0\n",
            "Domestic       0\n",
            "Catsize        1\n",
            "Animal_Type    0\n",
            "Name: 0, dtype: int64\n",
            "Predict it is a Type 3 animal\n"
          ],
          "name": "stdout"
        }
      ]
    },
    {
      "metadata": {
        "id": "ACckC7OD7w5b",
        "colab_type": "text"
      },
      "cell_type": "markdown",
      "source": [
        "This breaks down the thought process of the machine to the user, which allows them to see which columns were most important to the machine when predicting the type that the animal would be.\n",
        "\n",
        "The columns that are chosen are relevant to the animal type, for example animal type 5 contains mainly aquatic animals and therefore the main columns that will be taken into consideration would be aquatic, feathers, legs, tail, etc. as they are the most relevant to the examples of animals already considered to be of that type (5). This enables the machine learning to be the most accurate as possible with its predictions and focus on the key data."
      ]
    },
    {
      "metadata": {
        "id": "bs0o5AKWtQ9-",
        "colab_type": "text"
      },
      "cell_type": "markdown",
      "source": [
        "I chose to do animal type 3 as it has the most feature columns which makes it the most diverse for the users and the most accurate as it takes in more information and data than the other types of animals. "
      ]
    },
    {
      "metadata": {
        "id": "4WnBLtwrrCM0",
        "colab_type": "code",
        "colab": {
          "base_uri": "https://localhost:8080/",
          "height": 159
        },
        "outputId": "f05db053-507e-47cb-f77b-628e3de8977f"
      },
      "cell_type": "code",
      "source": [
        "## printing out the importance of the feature columns one by one\n",
        "\n",
        "for ix, c in enumerate(feature_columns):\n",
        "    if clf.feature_importances_[ix] > 0:\n",
        "        print(\"Column {} is {}\".format(c, clf.feature_importances_[ix]*100.0))"
      ],
      "execution_count": 27,
      "outputs": [
        {
          "output_type": "stream",
          "text": [
            "Column Milk is 0.10873692436754862\n",
            "Column Aquatic is 0.9184998356310567\n",
            "Column Predator is 11.211358854912024\n",
            "Column Breathes is 1.184842541434251\n",
            "Column Venomous is 0.593992679923272\n",
            "Column Fins is 0.5404851002597874\n",
            "Column Legs is 1.0772927168376545\n",
            "Column Tail is 0.23295107659271566\n"
          ],
          "name": "stdout"
        }
      ]
    },
    {
      "metadata": {
        "id": "OD2U1p2W6jVR",
        "colab_type": "code",
        "colab": {
          "base_uri": "https://localhost:8080/",
          "height": 52
        },
        "outputId": "28fd1341-7ea9-424f-a3e1-5675fe5d8459"
      },
      "cell_type": "code",
      "source": [
        "# applying the 2 models/algorithms to the dataset \n",
        "from sklearn.linear_model import LogisticRegression\n",
        "\n",
        "scoring = 'accuracy'\n",
        "\n",
        "models = []\n",
        "models.append(('LogisticReg', LogisticRegression()))\n",
        "models.append(('DecisionTree', DecisionTreeClassifier()))\n",
        "\n",
        "# evaluating each model individually to get the accuracy rates\n",
        "results = []\n",
        "names = []\n",
        "for name, model in models:\n",
        "  \n",
        "  kfold = model_selection.KFold(n_splits=10, random_state=0.3) \n",
        "  cv_results = model_selection.cross_val_score(model, X, y, cv=kfold, scoring=scoring)\n",
        "  \n",
        "  results.append(cv_results)\n",
        "  names.append(name)\n",
        "  msg = \"%s: %f (%f)\" % (name, cv_results.mean(), cv_results.std())\n",
        "  print(msg)\n",
        "\n",
        "  "
      ],
      "execution_count": 28,
      "outputs": [
        {
          "output_type": "stream",
          "text": [
            "LogisticReg: 0.879745 (0.042027)\n",
            "DecisionTree: 0.870338 (0.028879)\n"
          ],
          "name": "stdout"
        }
      ]
    },
    {
      "metadata": {
        "id": "4Ep7k8fVQIrJ",
        "colab_type": "text"
      },
      "cell_type": "markdown",
      "source": [
        "# Parameter Tuning Results\n",
        "\n",
        "See below for the results from when I altered the hyper-parameters that the algorithm was using (in the form of 'tolerance'), and the data that it resulted in. This includes the data for both the average accuracy rate and also the standard deviation rate and how they differed when the parameters were tuned.\n",
        "\n",
        "Run No.  |  Hyper-Parameter  |  Mean Result  ||\t Standard Deviation\n",
        "                  \n",
        "\n",
        "                                                      \n",
        "1                   0.00001\t                       0.865\t                    0.027\n",
        "\n",
        "2                 \t0.001                           \t0.866\t                    0.031\n",
        "\n",
        "3\t                  0.008\t                            0.873                    \t0.028\n",
        "\n",
        "4\t                  0.009\t                            0.870\t                    0.028\n",
        "\n",
        "5\t                  0.01\t                             0.870\t                    0.034\n",
        "\n",
        "6\t                  0.5\t                                0.862\t                     0.036\n",
        "\n",
        "7\t                  5 (i)\t                              0.869\t                     0.026\n",
        "\n",
        "8\t                  5 (ii)\t                            0.865\t                     0.024\n",
        "\n",
        "9\t                  5 (iii)\t                            0.870\t                     0.033\n",
        "\n",
        "10\t               5(iv)\t                            0.877\t                     0.029\n",
        "\n",
        "\n"
      ]
    },
    {
      "metadata": {
        "id": "HDb9JlW6DXUJ",
        "colab_type": "text"
      },
      "cell_type": "markdown",
      "source": [
        "# Comparing Models\n",
        "\n",
        "I have chosen to use 2 models to assist with my problem statement, which are a ‘Decision Tree’ and ‘Logistic Regression’. To help me to decide which model would be the best and most accurate for my zoo dataset, I used box and whisker plot graphs to visually compare the 2 models. This compared the range and the mean accuracy of both models which made it easy for me to be able to see how accurate they were on average and also generally, as the results will differ when the algorithm is run. \n",
        "\n",
        "There is a population of accuracy measures for each algorithm as each algorithm was evaluated 10 times (10 fold cross validation). "
      ]
    },
    {
      "metadata": {
        "id": "LHFmQeg77iFg",
        "colab_type": "code",
        "colab": {
          "base_uri": "https://localhost:8080/",
          "height": 417
        },
        "outputId": "fc3176b8-9afa-4a13-dbb5-448ab8aada65"
      },
      "cell_type": "code",
      "source": [
        "# Comparing the 2 models \n",
        "fig = plt.figure()\n",
        "fig.suptitle('Algorithm Comparison')\n",
        "ax = fig.add_subplot(111)\n",
        "plt.boxplot(results)\n",
        "ax.set_xticklabels(names)\n",
        "plt.show()"
      ],
      "execution_count": 29,
      "outputs": [
        {
          "output_type": "display_data",
          "data": {
            "image/png": "[encoded data removed]",
            "text/plain": [
              "<matplotlib.figure.Figure at 0x7fb8d2b7dcc0>"
            ]
          },
          "metadata": {
            "tags": []
          }
        }
      ]
    },
    {
      "metadata": {
        "id": "Nl7ZNPZSlweB",
        "colab_type": "text"
      },
      "cell_type": "markdown",
      "source": [
        "**Results from running the models**\n",
        "\n",
        "The above graph displays visual evidence from running the models, based on their performance and accuracy. Take this as a comparison, as you can see the most accurate prediction and least accurate which therefore allows the user to see the range in which the predictions can be in. I personally would choose the model with the lowest range (so the decision tree in this instance) as it is more consistent and has lower variance which could lead to anomalies or even just incorrect results. \n",
        "\n",
        "\n",
        "I ran both of the models 12 times, including cross-validation. I tried different hyper parameters in order to reach maximum accuracy and to improve my machine learning algorithm. Please find the hyper parameters that I used and the corresponding results below for each model.\n"
      ]
    },
    {
      "metadata": {
        "id": "bkc-tXfR6EZw",
        "colab_type": "text"
      },
      "cell_type": "markdown",
      "source": [
        "# **Clustering Algorithm**\n",
        "**Mean Shift Clustering**\n",
        "\n",
        "I added the ‘Mean Shift Clustering Algorithm’ to my machine learning experiment's pre-processing using the below code, in order to remove duplicates and also to find the most common predictions in the form of clusters by collating the nearest possible answers/results. \n",
        "\n",
        "+ I used this clustering algorithm rather than the other 3 due to its simplicity. Due to the end result being controlled by one parameter (the kernel bandwith value), whereas for example the K-means clustering algorithm requires the number of clusters as an input and I wouldn't have this data to be able to input it initially. \n",
        "+ I also chose to use this algorithm as it uses the density of the points to generate the number of clusters which provides a more rounded and accurate result to the algorithm.\n"
      ]
    },
    {
      "metadata": {
        "id": "MQYtH-TCTm4W",
        "colab_type": "code",
        "colab": {
          "base_uri": "https://localhost:8080/",
          "height": 35
        },
        "outputId": "81b07ebf-3d10-4cd5-e656-93ffb868ac6c"
      },
      "cell_type": "code",
      "source": [
        "from sklearn import cluster\n",
        "import numpy as np\n",
        "\n",
        "ms = cluster.MeanShift(bandwidth=None, seeds=None, bin_seeding=False, min_bin_freq=1, cluster_all=True, n_jobs=1)\n",
        "ms.fit(data,y=None)\n",
        "labels= ms.labels_\n",
        "\n",
        "cluster_centers = ms.cluster_centers_\n",
        "\n",
        "labels_unique = np.unique(labels)\n",
        "n_clusters_ = len(labels_unique)\n",
        "\n",
        "print(\"Number of estimated clusters : %d\" % n_clusters_)"
      ],
      "execution_count": 30,
      "outputs": [
        {
          "output_type": "stream",
          "text": [
            "Number of estimated clusters : 3\n"
          ],
          "name": "stdout"
        }
      ]
    },
    {
      "metadata": {
        "id": "7WKcZRJd9dXE",
        "colab_type": "text"
      },
      "cell_type": "markdown",
      "source": [
        "This code uses the mean shift clustering algorithm to initially generate the number of the clusters formed by the dataset, allowing the user to be able to visualise the amount of clusters that have been created and the general outline of the clustering diagram created from the models."
      ]
    },
    {
      "metadata": {
        "id": "kSJx-75wB9-J",
        "colab_type": "code",
        "colab": {
          "base_uri": "https://localhost:8080/",
          "height": 427
        },
        "outputId": "6a6ecfe2-2c92-4e9f-8bd5-84fa63c354b7"
      },
      "cell_type": "code",
      "source": [
        "import numpy as np\n",
        "import matplotlib.pyplot as plt\n",
        "\n",
        "x = np.random.randn(10)\n",
        "y = np.random.randn(10)\n",
        "Cluster = np.array([0, 1, 1, 1, 3, 2, 2, 3, 0, 2])    # Labels of cluster 0 to 3\n",
        "centers = np.random.randn(4, 2) \n",
        "\n",
        "fig = plt.figure()\n",
        "ax = fig.add_subplot(111)\n",
        "scatter = ax.scatter(x,y,c=Cluster,s=50)\n",
        "for i,j in centers:\n",
        "    ax.scatter(i,j,s=50,c='purple',marker='X') ## defines what colour and marking should be used when showing the main clusters on the diagram\n",
        "\n",
        "# defines the axis titles\n",
        "ax.set_xlabel('Animal Type Predictions')\n",
        "ax.set_ylabel('Clusters') \n",
        "\n",
        "plt.colorbar(scatter)\n",
        "\n",
        "fig.show()"
      ],
      "execution_count": 31,
      "outputs": [
        {
          "output_type": "stream",
          "text": [
            "/usr/local/lib/python3.6/dist-packages/matplotlib/figure.py:418: UserWarning: matplotlib is currently using a non-GUI backend, so cannot show the figure\n",
            "  \"matplotlib is currently using a non-GUI backend, \"\n"
          ],
          "name": "stderr"
        },
        {
          "output_type": "display_data",
          "data": {
            "image/png": "[encoded data removed]",
            "text/plain": [
              "<matplotlib.figure.Figure at 0x7fb8d2b81e10>"
            ]
          },
          "metadata": {
            "tags": []
          }
        }
      ]
    },
    {
      "metadata": {
        "id": "t2cpL_NDoVq_",
        "colab_type": "text"
      },
      "cell_type": "markdown",
      "source": [
        "As you can see from the above, I successfully created and implemented a mean shift clustering algorithm based on the previous code block which generates the number of clusters that the dataset will generate.\n",
        "\n",
        "However, I didn't manage to incorporate my own zoo dataset into this algorithm and the plot graph above includes random data based on random clusters of data. But despite all of this, the plot graph was successfully implemented and with further knowledge on how to implement a clustering algorithm, this would become personalised to generating predictions on animal type very quickly. I would simply need to feed the clusters into my machine learning algorithm, using the models, and the clustering algorithm would then be incorporated successfully. \n",
        "\n",
        "The plot graph above clearly displays the clusters (using the purple 'X' notation), but it also shows each point (prediction) that has been taken into account for the algorithm to be able to form the initial clusters.  This information is useful as it allows the user to see where the clusters were formed on the graph i.e. allows them to visualise where the most common predictions were made and then were the subsequent clusters were formed and the justifications behind their formations. \n",
        "\n",
        "\n"
      ]
    },
    {
      "metadata": {
        "id": "qGuUb87dMZjF",
        "colab_type": "text"
      },
      "cell_type": "markdown",
      "source": [
        "# Data Visualisation\n",
        "\n",
        "I ran the models countless times, however I changed the hyper-parameters to attempt to increase the accuracy and I recorded the results each time in correspondence to the tolerance value in the algorithm. You can see on my [GitHub](https://github.com/lilyadamek8/GraphsData/blob/master/graph2.PNG) a visual representation of the data and how the mean accuracy changed when the hyper parameter was altered. This graph contains both the mean accuracy rate of the algorithm's predictions but also the standard deviation of each. As you can see, the standard deviation stayed nearly the same rate all throughout with slight deviations but the average accuracy rate was the main change in predictions data.\n",
        "\n",
        "\n",
        "As you can see from the [graph](https://https://github.com/lilyadamek8/GraphsData/blob/master/mean%20graph.PNG), as the hyper-parameter increased (from 0.00001 to 0.008), the accuracy rate slowly increased therefore showing that the higher the tolerance the faster that the machine would learn and the more accurate that it would be with it's predictions; however, as you can also see, 0.008 appeared to be the most accurate value to use for tolerance as the accuracy on average decreased from there onwards. I then decided to use the same tolerance value and not change any hyper-parameter but instead to re-run the experiment with the same tolerance and see if the results varied and ultimately if my machine was learning anything from the experiment (I hoped so!). Luckily, I was proved to be correct as you can see when I ran the algorithm with 'Tolerance = 5', the average accuracy did increase (I am aware there was a decrease in 5 (ii) but this could be due to an anomaly or even just a bad prediction, I am just stating that thereon after the mean increased with the amount of runs). Therefore, the machine learning experiment is successful as it learns every time it is run and  is always gaining knowledge from the algorithm and dataset!"
      ]
    },
    {
      "metadata": {
        "id": "Yzxj26j0NoPQ",
        "colab_type": "text"
      },
      "cell_type": "markdown",
      "source": [
        "# Discussion\n",
        "\n",
        "I chose to use the Logistic Regression and Decision Tree models as once I had loaded the data into my system, I ran around 5 individual models and gathered the accuracy of each of their predictions, and these 2 models were by far the most accurate which is why I chose to go with them for my experiment. In conclusion to this task, I would choose to use the ‘Decision Tree’ model to allow the machine learning algorithm to predict if the animal would be of a particular type, mainly because it has a lower range and still has a accuracy rate of 95% which shows that the results are more likely to be correct and closer to the actual result as the algorithm is more consistent than the ‘Logistic Regression’ model. \n",
        "\n",
        "Both models generate an accuracy rate of around 95% each time (ranging between 85%-100%, depending on the hyper-parameters used), which is very high but is expected as the animals can only be of types 1-7 and the given animals in each type are all very similar already and have very similar attributes, making it a lot easier to classify them and provide a prediction on what type an animal would be based on its given attributes. The algorithm is also made a lot simpler by the majority of the attributes being made up of Boolean values, meaning that there is only a true or false answer that is possible which therefore makes the predictions a lot simpler and the structure more straight forward for the algorithm to process and follow. Due to these factors, I do not think that it is an issue that the accuracy is so high, because the possible values of the attributes are limited and subsequently lead to the process being made a lot simpler than other datasets that could've been used with different algorithms. \n",
        "\n",
        "https://github.com/lilyadamek8/graph1/blob/master/111.png\n",
        "\n",
        "As you can see from the whisker plot graph above (click to view the file), the ‘Decision Tree’ model is the more consistent of the 2, with fewer varying results and a lower range, making it the most reliable model to use as there is less chance of anomalies occurring and more chance of receiving an accurate prediction. However, the ‘Logistic Regression’ model is also extremely accurate with a relatively low range, however the lower extreme generated from the results is a lot lower than the decision tree model, and therefore the LR model appears to provide less consistent results. Overall, the robustness of the Decision Tree model is observably better than the Logistic Regression model however this could also mean that the machine is learning more from the LR model due to the varying results (it could be taking more data as an input and processing a lot more data which could be causing the varying results) and therefore this model would be the most accurate and representative of the dataset and would be the preferred model to use; this would require some further investigation to be able to actually decipher why the results were so varied in the LR model and what data each model prioritises when making a prediction on the animal type. Despite all of these factors, neither of the models have any anomalies from the data, which shows that both models are reliable and provide accurate and well processed results most of the time (if not all) and therefore both models could be used for making predictions for this experiment. \n",
        "\n",
        "\n",
        "\n",
        "\n",
        "\n",
        "# Recommendation\n",
        "\n",
        "\n",
        "My advice would be that we actively use the Decision Tree model for this experiment as it provides a very reliable prediction nearly every time, the range is small, meaning that the results do not vary by a vast amount proving that the results are nearly ALWAYS 90% or more accurate, and there are no anomalies. I recommend that we use this model to predict if an animal is of a certain type as it runs extremely fast, saving zookeepers time that could be spent doing other work and will save the zoo animals from being placed in the incorrect pens with incompatible animal types, but most importantly because it has a very high accuracy rate and is reliable, consistent and robust which is everything that a machine learning algorithm should be.\n"
      ]
    }
  ]
}